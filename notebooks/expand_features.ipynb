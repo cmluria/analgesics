{
 "cells": [
  {
   "cell_type": "code",
   "execution_count": 1,
   "id": "3ba77c84",
   "metadata": {},
   "outputs": [],
   "source": [
    "data_file = \"../data/drugs_29-Mar-2021-19_18_52_ATC_N02.txt\""
   ]
  },
  {
   "cell_type": "code",
   "execution_count": 2,
   "id": "281d0ee3",
   "metadata": {},
   "outputs": [],
   "source": [
    "fo = open(data_file,'r', encoding=\"ISO-8859-1\")\n",
    "header = fo.readline()\n",
    "header = header.strip().split(\"\\t\")"
   ]
  },
  {
   "cell_type": "code",
   "execution_count": 3,
   "id": "143555fe",
   "metadata": {},
   "outputs": [
    {
     "data": {
      "text/plain": [
       "['Drug ID',\n",
       " 'Drug Name',\n",
       " 'CAS Number',\n",
       " 'Chemical Name',\n",
       " 'New Molecular Entity',\n",
       " 'Drug Interactions',\n",
       " 'Comparative Efficacy',\n",
       " 'Highest Development Phase',\n",
       " 'Indication',\n",
       " 'Molecular Formula',\n",
       " 'Mechanism Of Action',\n",
       " 'Organisation',\n",
       " 'Pharmacodynamic Characteristics',\n",
       " 'Route Of Administration',\n",
       " 'Route Of Elimination',\n",
       " 'Pharmacokinetic Characteristics',\n",
       " 'Adverse Events',\n",
       " 'Therapeutic Class (EphMRA)',\n",
       " 'Therapeutic Class (WHO)',\n",
       " 'Synonyms/Brand Names',\n",
       " 'Antimicrobial Activity',\n",
       " 'Immunogenicity',\n",
       " 'Last Significant Update Date',\n",
       " 'Therapeutic Area',\n",
       " 'Orphan Designation',\n",
       " 'License Availability',\n",
       " 'Brands',\n",
       " 'On Fastrack',\n",
       " 'Fastrack country',\n",
       " 'On PRIME',\n",
       " 'PRIME country',\n",
       " 'Biomarkers-Inclusion',\n",
       " 'Biomarkers-Exclusion',\n",
       " 'Biomarkers-Outcome Measure',\n",
       " 'Biomarkers-Safety',\n",
       " 'Biomarkers-not specified',\n",
       " 'URL']"
      ]
     },
     "execution_count": 3,
     "metadata": {},
     "output_type": "execute_result"
    }
   ],
   "source": [
    "header"
   ]
  },
  {
   "cell_type": "code",
   "execution_count": 4,
   "id": "f657c836",
   "metadata": {},
   "outputs": [],
   "source": [
    "ind = 8; moa = 10"
   ]
  },
  {
   "cell_type": "code",
   "execution_count": 5,
   "id": "0e51b4ea",
   "metadata": {},
   "outputs": [
    {
     "name": "stdout",
     "output_type": "stream",
     "text": [
      "[17, 18, 23]\n"
     ]
    }
   ],
   "source": [
    "therapeutic = [header.index(x) for x in header if 'Therapeutic' in x]\n",
    "print(therapeutic)"
   ]
  },
  {
   "cell_type": "code",
   "execution_count": 6,
   "id": "ec9403a4",
   "metadata": {},
   "outputs": [
    {
     "ename": "SyntaxError",
     "evalue": "invalid syntax (<ipython-input-6-95a77aa78294>, line 16)",
     "output_type": "error",
     "traceback": [
      "\u001b[0;36m  File \u001b[0;32m\"<ipython-input-6-95a77aa78294>\"\u001b[0;36m, line \u001b[0;32m16\u001b[0m\n\u001b[0;31m    indicators.append(indicator.split(\",\"))\u001b[0m\n\u001b[0m             ^\u001b[0m\n\u001b[0;31mSyntaxError\u001b[0m\u001b[0;31m:\u001b[0m invalid syntax\n"
     ]
    }
   ],
   "source": [
    "indicators = []\n",
    "mechanisms = []\n",
    "thEs = []\n",
    "thWs = []\n",
    "thAs = []\n",
    "\n",
    "for line in fo:\n",
    "    line = line.strip().split('\\t')\n",
    "    rowid = line[0]\n",
    "    try:\n",
    "        indicator = line[ind]\n",
    "        mechanism = line[moa]\n",
    "        thE = line[17]\n",
    "        thW = line[18]\n",
    "        thA = line[23]\n",
    "    indicators.append(indicator.split(\",\"))\n",
    "    mechanisms.append(mechanism.split(\",\"))\n",
    "    thEs.append(thE.split(\",\"))\n",
    "    thWs.append(thW.split(\",\"))\n",
    "    thAs.append(thA.split(\",\"))\n",
    "\n"
   ]
  },
  {
   "cell_type": "code",
   "execution_count": null,
   "id": "f88c9dfe",
   "metadata": {},
   "outputs": [],
   "source": [
    "indicators_flat = [item.strip('\\\" ').replace('\\'','') for sublist in indicators for item in sublist]\n",
    "indicators_flat = set(indicators_flat)"
   ]
  },
  {
   "cell_type": "code",
   "execution_count": null,
   "id": "7693aef9",
   "metadata": {},
   "outputs": [],
   "source": [
    "mechanisms_flat = [item.strip('\\\" ').replace('\\'','') for sublist in mechanisms for item in sublist]\n",
    "mechanisms_flat = set(mechanisms_flat)"
   ]
  },
  {
   "cell_type": "code",
   "execution_count": null,
   "id": "de3633ab",
   "metadata": {},
   "outputs": [],
   "source": [
    "thE_flat = [item.strip('\\\" ').replace('\\'','') for sublist in thEs for item in sublist]\n",
    "thE_flat = set(thE_flat)\n",
    "thW_flat = [item.strip('\\\" ').replace('\\'','') for sublist in thWs for item in sublist]\n",
    "thW_flat = set(thW_flat)\n",
    "thA_flat = [item.strip('\\\" ').replace('\\'','') for sublist in thAs for item in sublist]\n",
    "thA_flat = set(thA_flat)"
   ]
  },
  {
   "cell_type": "code",
   "execution_count": null,
   "id": "f366f4ba",
   "metadata": {},
   "outputs": [],
   "source": [
    "len(mechanisms_flat)"
   ]
  },
  {
   "cell_type": "code",
   "execution_count": null,
   "id": "0faf5228",
   "metadata": {},
   "outputs": [],
   "source": [
    "len(indicators_flat)"
   ]
  },
  {
   "cell_type": "code",
   "execution_count": null,
   "id": "c9fcc3cc",
   "metadata": {},
   "outputs": [],
   "source": [
    "print(len(thE_flat))\n",
    "print(len(thW_flat))\n",
    "print(len(thA_flat))"
   ]
  },
  {
   "cell_type": "code",
   "execution_count": null,
   "id": "32b0a303",
   "metadata": {},
   "outputs": [],
   "source": [
    "import pandas as pd"
   ]
  },
  {
   "cell_type": "code",
   "execution_count": null,
   "id": "a54e9c10",
   "metadata": {},
   "outputs": [],
   "source": [
    "df = pd.read_table('../data/drugs_29-Mar-2021-19_18_52_ATC_N02.txt', encoding=\"ISO-8859-1\")"
   ]
  },
  {
   "cell_type": "code",
   "execution_count": null,
   "id": "ea06ca6d",
   "metadata": {},
   "outputs": [],
   "source": [
    "df.fillna('', inplace=True)"
   ]
  },
  {
   "cell_type": "code",
   "execution_count": 7,
   "id": "dc36916f",
   "metadata": {
    "scrolled": true
   },
   "outputs": [
    {
     "ename": "NameError",
     "evalue": "name 'df' is not defined",
     "output_type": "error",
     "traceback": [
      "\u001b[0;31m---------------------------------------------------------------------------\u001b[0m",
      "\u001b[0;31mNameError\u001b[0m                                 Traceback (most recent call last)",
      "\u001b[0;32m<ipython-input-7-07d7b33dfb01>\u001b[0m in \u001b[0;36m<module>\u001b[0;34m\u001b[0m\n\u001b[0;32m----> 1\u001b[0;31m \u001b[0mdf\u001b[0m\u001b[0;34m[\u001b[0m\u001b[0;34m'Therapeutic Class (EphMRA)'\u001b[0m\u001b[0;34m]\u001b[0m\u001b[0;34m\u001b[0m\u001b[0;34m\u001b[0m\u001b[0m\n\u001b[0m",
      "\u001b[0;31mNameError\u001b[0m: name 'df' is not defined"
     ]
    }
   ],
   "source": [
    "df['Therapeutic Class (EphMRA)']"
   ]
  },
  {
   "cell_type": "code",
   "execution_count": null,
   "id": "14032421",
   "metadata": {},
   "outputs": [],
   "source": [
    "cleaned_indication = df.set_index('Drug ID').Indication.str.split(',', expand=True).stack().reset_index(level=1, drop=True).to_frame('Indication')"
   ]
  },
  {
   "cell_type": "code",
   "execution_count": null,
   "id": "190b5bb2",
   "metadata": {},
   "outputs": [],
   "source": [
    "cleaned_indication.Indication = cleaned_indication.Indication.str.strip(\" \")"
   ]
  },
  {
   "cell_type": "code",
   "execution_count": null,
   "id": "077e7322",
   "metadata": {},
   "outputs": [],
   "source": [
    "pd.set_option(\"min_rows\", 20)\n",
    "cleaned_indication.Indication.value_counts().head(20)"
   ]
  },
  {
   "cell_type": "code",
   "execution_count": null,
   "id": "3a89a79a",
   "metadata": {},
   "outputs": [],
   "source": [
    "ind = pd.get_dummies(cleaned_indication, prefix='IND').groupby(level=0).sum()"
   ]
  },
  {
   "cell_type": "code",
   "execution_count": null,
   "id": "24cfcc26",
   "metadata": {},
   "outputs": [],
   "source": [
    "cleaned_mechanism = df.set_index('Drug ID')['Mechanism Of Action'].str.split(',', expand=True).stack().reset_index(level=1, drop=True).to_frame('Mechanism')\n",
    "cleaned_mechanism.Mechanism = cleaned_mechanism.Mechanism.str.strip(\" \")\n",
    "mch = pd.get_dummies(cleaned_mechanism, prefix='MCH').groupby(level=0).sum()"
   ]
  },
  {
   "cell_type": "code",
   "execution_count": null,
   "id": "e4488fec",
   "metadata": {},
   "outputs": [],
   "source": [
    "cleaned_therape = df.set_index('Drug ID')['Therapeutic Class (EphMRA)'].str.split(',', expand=True).stack().reset_index(level=1, drop=True).to_frame('TherapE')\n",
    "cleaned_therape.TherapE = cleaned_therape.TherapE.str.strip(\" \")\n",
    "the = pd.get_dummies(cleaned_therape, prefix='THE').groupby(level=0).sum()"
   ]
  },
  {
   "cell_type": "code",
   "execution_count": null,
   "id": "afaeaca2",
   "metadata": {},
   "outputs": [],
   "source": [
    "cleaned_therape.TherapE.value_counts()"
   ]
  },
  {
   "cell_type": "code",
   "execution_count": null,
   "id": "464d7501",
   "metadata": {},
   "outputs": [],
   "source": [
    "cleaned_therapw = df.set_index('Drug ID')['Therapeutic Class (WHO)'].str.split(',', expand=True).stack().reset_index(level=1, drop=True).to_frame('TherapW')\n",
    "cleaned_therapw.TherapW = cleaned_therapw.TherapW.str.strip(\" \")\n",
    "thw = pd.get_dummies(cleaned_therapw, prefix='THW').groupby(level=0).sum()"
   ]
  },
  {
   "cell_type": "code",
   "execution_count": null,
   "id": "96ca4648",
   "metadata": {},
   "outputs": [],
   "source": [
    "cleaned_therapw.TherapW.value_counts()"
   ]
  },
  {
   "cell_type": "code",
   "execution_count": null,
   "id": "0839a315",
   "metadata": {},
   "outputs": [],
   "source": [
    "cleaned_therapa = df.set_index('Drug ID')['Therapeutic Area'].str.split(',', expand=True).stack().reset_index(level=1, drop=True).to_frame('TherapA')\n",
    "cleaned_therapa.TherapA = cleaned_therapa.TherapA.str.strip(\" \")\n",
    "tha = pd.get_dummies(cleaned_therapa, prefix='THA').groupby(level=0).sum()"
   ]
  },
  {
   "cell_type": "code",
   "execution_count": null,
   "id": "b43f389a",
   "metadata": {},
   "outputs": [],
   "source": [
    "cleaned_therapa.TherapA.value_counts()"
   ]
  },
  {
   "cell_type": "code",
   "execution_count": null,
   "id": "6e28241b",
   "metadata": {},
   "outputs": [],
   "source": [
    "df = df.set_index('Drug ID').join(ind).join(mch).join(the).join(thw).join(tha)"
   ]
  },
  {
   "cell_type": "code",
   "execution_count": null,
   "id": "7a5441d0",
   "metadata": {},
   "outputs": [],
   "source": [
    "df.to_csv('../data/drugs.txt',sep=\"\\t\")"
   ]
  },
  {
   "cell_type": "code",
   "execution_count": null,
   "id": "bd7f284e",
   "metadata": {},
   "outputs": [],
   "source": [
    "ind.shape"
   ]
  },
  {
   "cell_type": "code",
   "execution_count": null,
   "id": "c327afb5",
   "metadata": {},
   "outputs": [],
   "source": [
    "mch.shape"
   ]
  },
  {
   "cell_type": "markdown",
   "id": "5f1fb6be",
   "metadata": {},
   "source": [
    "# Market-Basket Analysis"
   ]
  },
  {
   "cell_type": "code",
   "execution_count": null,
   "id": "6167a5a4",
   "metadata": {},
   "outputs": [],
   "source": [
    "#!conda install MLxtend --channel conda-forge --yes"
   ]
  },
  {
   "cell_type": "code",
   "execution_count": null,
   "id": "ae985d7a",
   "metadata": {},
   "outputs": [],
   "source": [
    "from mlxtend.frequent_patterns import apriori\n",
    "from mlxtend.frequent_patterns import association_rules"
   ]
  },
  {
   "cell_type": "code",
   "execution_count": null,
   "id": "3297f864",
   "metadata": {},
   "outputs": [],
   "source": [
    "frequent_indicators = apriori(ind, min_support=0.01, use_colnames=True, max_len=4)"
   ]
  },
  {
   "cell_type": "code",
   "execution_count": null,
   "id": "da8fe3ab",
   "metadata": {},
   "outputs": [],
   "source": [
    "frequent_indicators.sort_values(by=['support'],ascending=False)"
   ]
  },
  {
   "cell_type": "code",
   "execution_count": null,
   "id": "8d7cd7ab",
   "metadata": {},
   "outputs": [],
   "source": [
    "rules = association_rules(frequent_indicators, metric=\"lift\", min_threshold=1)\n"
   ]
  },
  {
   "cell_type": "code",
   "execution_count": null,
   "id": "20a0e57d",
   "metadata": {
    "scrolled": true
   },
   "outputs": [],
   "source": [
    "rules[ (rules['lift'] >= 2) &\n",
    "       (rules['confidence'] >= 0.1) ].sort_values(by=['confidence'],ascending=False)"
   ]
  },
  {
   "cell_type": "code",
   "execution_count": null,
   "id": "8222b27f",
   "metadata": {},
   "outputs": [],
   "source": [
    "frequent_mechanisms = apriori(mch, min_support=0.01, use_colnames=True, max_len=4)\n",
    "frequent_mechanisms.sort_values(by=['support'],ascending=False)"
   ]
  },
  {
   "cell_type": "code",
   "execution_count": null,
   "id": "96f3c106",
   "metadata": {},
   "outputs": [],
   "source": [
    "rules_mch = association_rules(frequent_mechanisms, metric=\"lift\", min_threshold=1)\n",
    "rules_mch[ (rules_mch['lift'] >= 2) &\n",
    "       (rules_mch['confidence'] >= 0.1) ].sort_values(by=['confidence'],ascending=False)"
   ]
  },
  {
   "cell_type": "code",
   "execution_count": null,
   "id": "0b318c99",
   "metadata": {},
   "outputs": [],
   "source": [
    "rules_mch['lhs items'] = [len(x) for x in rules_mch['antecedents']]\n",
    "rules_mch[rules_mch['lhs items']>1].sort_values('lift', ascending=False).head()"
   ]
  },
  {
   "cell_type": "code",
   "execution_count": null,
   "id": "b42e8f26",
   "metadata": {},
   "outputs": [],
   "source": []
  },
  {
   "cell_type": "code",
   "execution_count": null,
   "id": "facf0f4b",
   "metadata": {},
   "outputs": [],
   "source": [
    "df['Drug Name']"
   ]
  },
  {
   "cell_type": "code",
   "execution_count": null,
   "id": "bc5cf229",
   "metadata": {},
   "outputs": [],
   "source": [
    "frequent_all = apriori(mch.join(ind).join(tha), min_support=0.01, use_colnames=True, max_len=6)\n",
    "frequent_all.sort_values(by=['support'],ascending=False)"
   ]
  },
  {
   "cell_type": "code",
   "execution_count": null,
   "id": "88670e7a",
   "metadata": {},
   "outputs": [],
   "source": [
    "rules_all = association_rules(frequent_all, metric=\"lift\", min_threshold=1)\n",
    "rules_all[ (rules_all['lift'] >= 2) &\n",
    "       (rules_all['confidence'] >= 0.4) ].sort_values(by=['lift'],ascending=False)"
   ]
  },
  {
   "cell_type": "code",
   "execution_count": null,
   "id": "fb312736",
   "metadata": {
    "scrolled": true
   },
   "outputs": [],
   "source": []
  },
  {
   "cell_type": "code",
   "execution_count": null,
   "id": "54b859a7",
   "metadata": {},
   "outputs": [],
   "source": []
  },
  {
   "cell_type": "code",
   "execution_count": null,
   "id": "5ceaac89",
   "metadata": {},
   "outputs": [],
   "source": [
    "df['Adverse Events'].value_counts()"
   ]
  },
  {
   "cell_type": "code",
   "execution_count": null,
   "id": "c70f82d8",
   "metadata": {},
   "outputs": [],
   "source": [
    "df[df['Adverse Events'].str.contains(\"Aggression\")]"
   ]
  },
  {
   "cell_type": "code",
   "execution_count": null,
   "id": "461f72a1",
   "metadata": {},
   "outputs": [],
   "source": []
  }
 ],
 "metadata": {
  "kernelspec": {
   "display_name": "Python 3",
   "language": "python",
   "name": "python3"
  },
  "language_info": {
   "codemirror_mode": {
    "name": "ipython",
    "version": 3
   },
   "file_extension": ".py",
   "mimetype": "text/x-python",
   "name": "python",
   "nbconvert_exporter": "python",
   "pygments_lexer": "ipython3",
   "version": "3.7.10"
  }
 },
 "nbformat": 4,
 "nbformat_minor": 5
}
